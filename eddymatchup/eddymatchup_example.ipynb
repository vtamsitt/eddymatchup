{
 "cells": [
  {
   "cell_type": "markdown",
   "id": "f2de3d2c",
   "metadata": {},
   "source": [
    "test run"
   ]
  },
  {
   "cell_type": "code",
   "execution_count": 1,
   "id": "2b1a0865",
   "metadata": {},
   "outputs": [],
   "source": [
    "import eddymatchup as ed\n",
    "import numpy as np\n",
    "import datetime\n",
    "import ftplib"
   ]
  },
  {
   "cell_type": "code",
   "execution_count": 2,
   "id": "e76844a5",
   "metadata": {},
   "outputs": [],
   "source": [
    "#create fake input data\n",
    "lons = np.arange(50,80)\n",
    "lats = np.arange(-65,-35)\n",
    "#t = np.arange(np.datetime64('2020-07-01'), np.datetime64('2020-07-31'),\n",
    "#              np.timedelta64(1,'D'))\n",
    "t = np.arange(datetime.datetime(2020,7,1), datetime.datetime(2020,7,31),\n",
    "              datetime.timedelta(days=1))"
   ]
  },
  {
   "cell_type": "code",
   "execution_count": 3,
   "id": "d50a26e9",
   "metadata": {},
   "outputs": [
    {
     "name": "stdout",
     "output_type": "stream",
     "text": [
      "Total eddy matchups = 8\n",
      "Total unique eddy IDs = 8\n"
     ]
    }
   ],
   "source": [
    "matches = ed.match(lons,lats,t,database='META3.2_allsat',download_database=False)"
   ]
  },
  {
   "cell_type": "code",
   "execution_count": null,
   "id": "754aec55",
   "metadata": {},
   "outputs": [],
   "source": [
    "matches.eddy_amplitude"
   ]
  },
  {
   "cell_type": "code",
   "execution_count": null,
   "id": "50771196",
   "metadata": {},
   "outputs": [],
   "source": []
  }
 ],
 "metadata": {
  "kernelspec": {
   "display_name": "Python 3",
   "language": "python",
   "name": "python3"
  },
  "language_info": {
   "codemirror_mode": {
    "name": "ipython",
    "version": 3
   },
   "file_extension": ".py",
   "mimetype": "text/x-python",
   "name": "python",
   "nbconvert_exporter": "python",
   "pygments_lexer": "ipython3",
   "version": "3.8.8"
  }
 },
 "nbformat": 4,
 "nbformat_minor": 5
}
